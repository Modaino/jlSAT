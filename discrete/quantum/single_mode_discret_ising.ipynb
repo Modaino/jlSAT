{
 "cells": [
  {
   "cell_type": "markdown",
   "metadata": {},
   "source": [
    "# Single mode C.I.M \n"
   ]
  },
  {
   "cell_type": "markdown",
   "metadata": {},
   "source": [
    "### Imports and includes"
   ]
  },
  {
   "cell_type": "code",
   "execution_count": 1,
   "metadata": {},
   "outputs": [
    {
     "data": {
      "text/plain": [
       "homodyne_b! (generic function with 2 methods)"
      ]
     },
     "metadata": {},
     "output_type": "display_data"
    }
   ],
   "source": [
    "#import Pkg; Pkg.add(\"QuantumOpticsBase\")\n",
    "import QuantumOptics\n",
    "using LinearAlgebra\n",
    "using Random\n",
    "using Statistics\n",
    "using Roots\n",
    "using QuadGK\n",
    "using QuantumOptics\n",
    "include(\"homodyne.jl\")"
   ]
  },
  {
   "cell_type": "markdown",
   "metadata": {},
   "source": [
    "### Parameters"
   ]
  },
  {
   "cell_type": "code",
   "execution_count": 2,
   "metadata": {},
   "outputs": [
    {
     "data": {
      "text/plain": [
       "0.01"
      ]
     },
     "metadata": {},
     "output_type": "display_data"
    }
   ],
   "source": [
    "ϵτ = 1.0\n",
    "β = 2.0\n",
    "θ = (asin∘sqrt)(0.01)\n",
    "r_bs = 0.5\n",
    "r_ic = 0.01"
   ]
  },
  {
   "cell_type": "markdown",
   "metadata": {},
   "source": [
    "## Beamsplitter\n",
    "Input state $\n",
    "\\left| n \\right>_1 \\otimes \\left| m \\right>_2  = \\left( \\hat{a}^{\\dagger}_1 \\otimes \\mathbb{I}_2 \\right)^n\n",
    "\\left(\\mathbb{I}_1 \\otimes \\hat{a}^{\\dagger}_2 \\right)^m \\left| 0 \\right>_1 \\otimes \\left| 0 \\right>_2\n",
    "$\n",
    "\n",
    "Output state $ \\left| p \\right>_3 \\otimes \\left| q \\right>_4 = \\left( \\hat{a}^{\\dagger}_3 \\otimes \\mathbb{I}_4 \\right)^p\n",
    "\\left(\\mathbb{I}_3 \\otimes \\hat{a}^{\\dagger}_4 \\right)^q \\left| 0 \\right>_3 \\otimes \\left| 0 \\right>_4$\n",
    "\n",
    "Unitary model of beam-splitter\n",
    "\n",
    "$$ U_{bs} = \\exp \\left\\{ (\\arcsin r) \\hat a^\\dagger \\hat b - \\text{H.c.}  \\right\\} $$\n",
    "\n",
    "### Algorithm 1\n",
    "\n",
    "Form density matrix\n",
    "\n",
    "$\\rho_i = \\left( \\left| n \\right>_1 \\otimes \\left| m \\right>_2 \\right)^{\\dagger} \\otimes \\left( \\left| n \\right>_1 \\otimes \\left| m \\right>_2 \\right) $\n",
    "\n",
    "Act with beam-splitter unitary\n",
    "\n",
    "$\\rho_f = U_{bs} \\rho_i U_{bs}^{\\dagger}$\n",
    "\n",
    "Return tuple of partial traces\n",
    "\n",
    "$ \\left( \\text{Tr}_1 \\left[ \\rho_f \\right], \\text{Tr}_2 \\left[\\rho_f \\right] \\right)$\n",
    "\n",
    "### Algorithm 2\n",
    "\n",
    "Act with beam-splitter unitary on product state\n",
    "\n",
    "$\\psi_{out} = U_{bs} \\left| n \\right>_1 \\otimes \\left| m \\right>_2 $\n",
    "\n",
    "Partial collapse (may be conditional on result $y$) due to measurement on second subsystem\n",
    "\n",
    "$ \\psi_{coll} =\\hat{P} (y) \\psi_{out} $"
   ]
  },
  {
   "cell_type": "code",
   "execution_count": 3,
   "metadata": {},
   "outputs": [],
   "source": [
    "# Defining beamsplitter unitary operator (on composite state)\n",
    "basis_a = FockBasis(2); basis_b = FockBasis(2)\n",
    "id_a = identityoperator(basis_a)\n",
    "id_b = identityoperator(basis_b)\n",
    "a = destroy(basis_a) ⊗ id_b\n",
    "b = id_a ⊗ destroy(basis_b)\n",
    "\n",
    "U_out = exp( dense(asin(r_bs)* (dagger(a)*b - a*dagger(b))) )\n",
    "U_in = exp( dense(asin(r_ic)* (dagger(a)*b - a*dagger(b))) );"
   ]
  },
  {
   "cell_type": "markdown",
   "metadata": {},
   "source": [
    "## Crystal propagation\n",
    "$$ \n",
    "\\hat{H}_{cry} = \\frac{i\\cdot \\varepsilon}{2} \\hat{b} \\hat{a}^{\\dagger 2} + \\text{H.c.}\n",
    "$$\n",
    "Time evolution operator\n",
    "$$ U_{cry} (\\tau) = e^{-\\frac{i}{\\hbar} \\hat{H} \\tau} "
   ]
  },
  {
   "cell_type": "code",
   "execution_count": 4,
   "metadata": {},
   "outputs": [],
   "source": [
    "H_cr = 1im * ϵτ * (b + id_a ⊗ (β/sqrt(2)*id_b)) * dagger(a^2)\n",
    "H_cr = 0.5*(H_cr + dagger(H_cr));"
   ]
  },
  {
   "cell_type": "markdown",
   "metadata": {},
   "source": [
    "### Random collapse"
   ]
  },
  {
   "cell_type": "code",
   "execution_count": 5,
   "metadata": {},
   "outputs": [
    {
     "data": {
      "text/plain": [
       "random_collapse (generic function with 2 methods)"
      ]
     },
     "metadata": {},
     "output_type": "display_data"
    }
   ],
   "source": [
    "function random_collapse(ψ::Ket, ψcache::Ket, projectors, rng::AbstractRNG=Random.GLOBAL_RNG)\n",
    "    Fnb = cumsum(real(expect(n,ψ)) for n in projectors)\n",
    "    Fnb[end] = 1.0\n",
    "    nb_samp = searchsortedlast(Fnb, rand(rng))\n",
    "    ψcache .= ψ\n",
    "    mul!(ψ, projectors[nb_samp+1], ψcache) #(target, op., input)\n",
    "    for n in 1:nb_samp\n",
    "        ψcache .= ψ\n",
    "        mul!(ψ, b, ψcache)\n",
    "    end\n",
    "    normalize!(ψ)\n",
    "    return nb_samp\n",
    "end"
   ]
  },
  {
   "cell_type": "markdown",
   "metadata": {},
   "source": [
    "## Discrete algorithm\n",
    "### Roundtrip\n",
    "1. Crystal propagation\n",
    "2. Reset ancilla & Loss & Reset ancilla\n",
    "3. Homodyne measurement\n",
    "4. Reset ancilla & Loss & Reset ancilla\n",
    "5. Feedback injection"
   ]
  },
  {
   "cell_type": "code",
   "execution_count": 9,
   "metadata": {},
   "outputs": [
    {
     "data": {
      "text/plain": [
       "CIM_roundtrip! (generic function with 2 methods)"
      ]
     },
     "metadata": {},
     "output_type": "display_data"
    }
   ],
   "source": [
    "function CIM_roundtrip!(ψ_1::Ket, ψ_2::Ket, H_cr::Operator, U_out::Operator, U_in::Operator, y, r_ic, basis_a::Basis, basis_b::Basis, hom::Homodyne, projectors)   \n",
    "    # crystal propagation (result in ψ_2)\n",
    "    _, (_,ψ_2) = timeevolution.schroedinger([0,1], ψ_1, H_cr)\n",
    "    # loss 1\n",
    "    #TODO: implement cavity loss\n",
    "\n",
    "    # Homodyne measurement (result in ψ_1)\n",
    "    ψ_2 = U_out * ψ_2\n",
    "    w = homodyne_b!(hom, ψ_2, Random.GLOBAL_RNG)\n",
    "    # loss 2\n",
    "    #TODO: implement cavity loss\n",
    "\n",
    "    # Feedback injection\n",
    "    \n",
    "    id_1 = identityoperator(basis_a)\n",
    "    D_α = displace(basis_b, y(w)/r_ic)\n",
    "    U_ic = id_1 ⊗ D_α\n",
    "    ψ_1 = U_ic * ψ_2\n",
    "    clicks = random_collapse(ψ_1, ψ_2, projectors)\n",
    "    return w\n",
    "end"
   ]
  },
  {
   "cell_type": "code",
   "execution_count": 13,
   "metadata": {},
   "outputs": [],
   "source": [
    "# x = Ket(basis_a, [1, 1, 1])\n",
    "# y = Ket(basis_b, [1, 0, 0]) # vacum state\n",
    "hom = Homodyne(basis_a, basis_b)\n",
    "projectors = [identityoperator(basis_a) ⊗ projector(fockstate(basis_b,i)) for i in 0:basis_b.N];\n",
    "ψ_init = fockstate(basis_a,0) ⊗ fockstate(basis_b,0)\n",
    "ancilla = deepcopy(ψ_init)\n",
    "nbr_roundtrips = 50\n",
    "w = zeros(nbr_roundtrips)\n",
    "for i in 1:nbr_roundtrips\n",
    "    w[i] = CIM_roundtrip!(ψ_init, ancilla, H_cr, U_out, U_in, w -> w / 10, r_ic, basis_a, basis_b, hom, projectors)\n",
    "end\n"
   ]
  },
  {
   "cell_type": "code",
   "execution_count": 15,
   "metadata": {},
   "outputs": [
    {
     "data": {
      "image/png": "[encoded data removed]",
      "image/svg+xml": "<?xml version=\"1.0\" encoding=\"utf-8\"?>\n<svg xmlns=\"http://www.w3.org/2000/svg\" xmlns:xlink=\"http://www.w3.org/1999/xlink\" width=\"600\" height=\"400\" viewBox=\"0 0 2400 1600\">\n<defs>\n  <clipPath id=\"clip230\">\n    <rect x=\"0\" y=\"0\" width=\"2400\" height=\"1600\"/>\n  </clipPath>\n</defs>\n<path clip-path=\"url(#clip230)\" d=\"\nM0 1600 L2400 1600 L2400 0 L0 0  Z\n  \" fill=\"#ffffff\" fill-rule=\"evenodd\" fill-opacity=\"1\"/>\n<defs>\n  <clipPath id=\"clip231\">\n    <rect x=\"480\" y=\"0\" width=\"1681\" height=\"1600\"/>\n  </clipPath>\n</defs>\n<path clip-path=\"url(#clip230)\" d=\"\nM147.478 1486.45 L2352.76 1486.45 L2352.76 47.2441 L147.478 47.2441  Z\n  \" fill=\"#ffffff\" fill-rule=\"evenodd\" fill-opacity=\"1\"/>\n<defs>\n  <clipPath id=\"clip232\">\n    <rect x=\"147\" y=\"47\" width=\"2206\" height=\"1440\"/>\n  </clipPath>\n</defs>\n<polyline clip-path=\"url(#clip232)\" style=\"stroke:#000000; stroke-linecap:butt; stroke-linejoin:round; stroke-width:2; stroke-opacity:0.1; fill:none\" points=\"\n  167.433,1486.45 167.433,47.2441 \n  \"/>\n<polyline clip-path=\"url(#clip232)\" style=\"stroke:#000000; stroke-linecap:butt; stroke-linejoin:round; stroke-width:2; stroke-opacity:0.1; fill:none\" points=\"\n  592.015,1486.45 592.015,47.2441 \n  \"/>\n<polyline clip-path=\"url(#clip232)\" style=\"stroke:#000000; stroke-linecap:butt; stroke-linejoin:round; stroke-width:2; stroke-opacity:0.1; fill:none\" points=\"\n  1016.6,1486.45 1016.6,47.2441 \n  \"/>\n<polyline clip-path=\"url(#clip232)\" style=\"stroke:#000000; stroke-linecap:butt; stroke-linejoin:round; stroke-width:2; stroke-opacity:0.1; fill:none\" points=\"\n  1441.18,1486.45 1441.18,47.2441 \n  \"/>\n<polyline clip-path=\"url(#clip232)\" style=\"stroke:#000000; stroke-linecap:butt; stroke-linejoin:round; stroke-width:2; stroke-opacity:0.1; fill:none\" points=\"\n  1865.76,1486.45 1865.76,47.2441 \n  \"/>\n<polyline clip-path=\"url(#clip232)\" style=\"stroke:#000000; stroke-linecap:butt; stroke-linejoin:round; stroke-width:2; stroke-opacity:0.1; fill:none\" points=\"\n  2290.34,1486.45 2290.34,47.2441 \n  \"/>\n<polyline clip-path=\"url(#clip230)\" style=\"stroke:#000000; stroke-linecap:butt; stroke-linejoin:round; stroke-width:4; stroke-opacity:1; fill:none\" points=\"\n  147.478,1486.45 2352.76,1486.45 \n  \"/>\n<polyline clip-path=\"url(#clip230)\" style=\"stroke:#000000; stroke-linecap:butt; stroke-linejoin:round; stroke-width:4; stroke-opacity:1; fill:none\" points=\"\n  167.433,1486.45 167.433,1467.55 \n  \"/>\n<polyline clip-path=\"url(#clip230)\" style=\"stroke:#000000; stroke-linecap:butt; stroke-linejoin:round; stroke-width:4; stroke-opacity:1; fill:none\" points=\"\n  592.015,1486.45 592.015,1467.55 \n  \"/>\n<polyline clip-path=\"url(#clip230)\" style=\"stroke:#000000; stroke-linecap:butt; stroke-linejoin:round; stroke-width:4; stroke-opacity:1; fill:none\" points=\"\n  1016.6,1486.45 1016.6,1467.55 \n  \"/>\n<polyline clip-path=\"url(#clip230)\" style=\"stroke:#000000; stroke-linecap:butt; stroke-linejoin:round; stroke-width:4; stroke-opacity:1; fill:none\" points=\"\n  1441.18,1486.45 1441.18,1467.55 \n  \"/>\n<polyline clip-path=\"url(#clip230)\" style=\"stroke:#000000; stroke-linecap:butt; stroke-linejoin:round; stroke-width:4; stroke-opacity:1; fill:none\" points=\"\n  1865.76,1486.45 1865.76,1467.55 \n  \"/>\n<polyline clip-path=\"url(#clip230)\" style=\"stroke:#000000; stroke-linecap:butt; stroke-linejoin:round; stroke-width:4; stroke-opacity:1; fill:none\" points=\"\n  2290.34,1486.45 2290.34,1467.55 \n  \"/>\n<path clip-path=\"url(#clip230)\" d=\"M167.433 1517.37 Q163.822 1517.37 161.993 1520.93 Q160.188 1524.47 160.188 1531.6 Q160.188 1538.71 161.993 1542.27 Q163.822 1545.82 167.433 1545.82 Q171.067 1545.82 172.873 1542.27 Q174.702 1538.71 174.702 1531.6 Q174.702 1524.47 172.873 1520.93 Q171.067 1517.37 167.433 1517.37 M167.433 1513.66 Q173.243 1513.66 176.299 1518.27 Q179.378 1522.85 179.378 1531.6 Q179.378 1540.33 176.299 1544.94 Q173.243 1549.52 167.433 1549.52 Q161.623 1549.52 158.544 1544.94 Q155.489 1540.33 155.489 1531.6 Q155.489 1522.85 158.544 1518.27 Q161.623 1513.66 167.433 1513.66 Z\" fill=\"#000000\" fill-rule=\"evenodd\" fill-opacity=\"1\" /><path clip-path=\"url(#clip230)\" d=\"M566.703 1544.91 L574.342 1544.91 L574.342 1518.55 L566.031 1520.21 L566.031 1515.95 L574.295 1514.29 L578.971 1514.29 L578.971 1544.91 L586.61 1544.91 L586.61 1548.85 L566.703 1548.85 L566.703 1544.91 Z\" fill=\"#000000\" fill-rule=\"evenodd\" fill-opacity=\"1\" /><path clip-path=\"url(#clip230)\" d=\"M606.054 1517.37 Q602.443 1517.37 600.615 1520.93 Q598.809 1524.47 598.809 1531.6 Q598.809 1538.71 600.615 1542.27 Q602.443 1545.82 606.054 1545.82 Q609.689 1545.82 611.494 1542.27 Q613.323 1538.71 613.323 1531.6 Q613.323 1524.47 611.494 1520.93 Q609.689 1517.37 606.054 1517.37 M606.054 1513.66 Q611.865 1513.66 614.92 1518.27 Q617.999 1522.85 617.999 1531.6 Q617.999 1540.33 614.92 1544.94 Q611.865 1549.52 606.054 1549.52 Q600.244 1549.52 597.166 1544.94 Q594.11 1540.33 594.11 1531.6 Q594.11 1522.85 597.166 1518.27 Q600.244 1513.66 606.054 1513.66 Z\" fill=\"#000000\" fill-rule=\"evenodd\" fill-opacity=\"1\" /><path clip-path=\"url(#clip230)\" d=\"M995.37 1544.91 L1011.69 1544.91 L1011.69 1548.85 L989.745 1548.85 L989.745 1544.91 Q992.407 1542.16 996.991 1537.53 Q1001.6 1532.88 1002.78 1531.53 Q1005.02 1529.01 1005.9 1527.27 Q1006.81 1525.51 1006.81 1523.82 Q1006.81 1521.07 1004.86 1519.33 Q1002.94 1517.6 999.838 1517.6 Q997.639 1517.6 995.185 1518.36 Q992.754 1519.13 989.977 1520.68 L989.977 1515.95 Q992.801 1514.82 995.254 1514.24 Q997.708 1513.66 999.745 1513.66 Q1005.12 1513.66 1008.31 1516.35 Q1011.5 1519.03 1011.5 1523.52 Q1011.5 1525.65 1010.69 1527.57 Q1009.91 1529.47 1007.8 1532.07 Q1007.22 1532.74 1004.12 1535.95 Q1001.02 1539.15 995.37 1544.91 Z\" fill=\"#000000\" fill-rule=\"evenodd\" fill-opacity=\"1\" /><path clip-path=\"url(#clip230)\" d=\"M1031.5 1517.37 Q1027.89 1517.37 1026.06 1520.93 Q1024.26 1524.47 1024.26 1531.6 Q1024.26 1538.71 1026.06 1542.27 Q1027.89 1545.82 1031.5 1545.82 Q1035.14 1545.82 1036.94 1542.27 Q1038.77 1538.71 1038.77 1531.6 Q1038.77 1524.47 1036.94 1520.93 Q1035.14 1517.37 1031.5 1517.37 M1031.5 1513.66 Q1037.31 1513.66 1040.37 1518.27 Q1043.45 1522.85 1043.45 1531.6 Q1043.45 1540.33 1040.37 1544.94 Q1037.31 1549.52 1031.5 1549.52 Q1025.69 1549.52 1022.62 1544.94 Q1019.56 1540.33 1019.56 1531.6 Q1019.56 1522.85 1022.62 1518.27 Q1025.69 1513.66 1031.5 1513.66 Z\" fill=\"#000000\" fill-rule=\"evenodd\" fill-opacity=\"1\" /><path clip-path=\"url(#clip230)\" d=\"M1430.02 1530.21 Q1433.38 1530.93 1435.25 1533.2 Q1437.15 1535.47 1437.15 1538.8 Q1437.15 1543.92 1433.63 1546.72 Q1430.11 1549.52 1423.63 1549.52 Q1421.46 1549.52 1419.14 1549.08 Q1416.85 1548.66 1414.4 1547.81 L1414.4 1543.29 Q1416.34 1544.43 1418.66 1545.01 Q1420.97 1545.58 1423.49 1545.58 Q1427.89 1545.58 1430.18 1543.85 Q1432.5 1542.11 1432.5 1538.8 Q1432.5 1535.75 1430.35 1534.03 Q1428.22 1532.3 1424.4 1532.3 L1420.37 1532.3 L1420.37 1528.45 L1424.58 1528.45 Q1428.03 1528.45 1429.86 1527.09 Q1431.69 1525.7 1431.69 1523.11 Q1431.69 1520.45 1429.79 1519.03 Q1427.91 1517.6 1424.4 1517.6 Q1422.48 1517.6 1420.28 1518.01 Q1418.08 1518.43 1415.44 1519.31 L1415.44 1515.14 Q1418.1 1514.4 1420.41 1514.03 Q1422.75 1513.66 1424.81 1513.66 Q1430.14 1513.66 1433.24 1516.09 Q1436.34 1518.5 1436.34 1522.62 Q1436.34 1525.49 1434.7 1527.48 Q1433.05 1529.45 1430.02 1530.21 Z\" fill=\"#000000\" fill-rule=\"evenodd\" fill-opacity=\"1\" /><path clip-path=\"url(#clip230)\" d=\"M1456.02 1517.37 Q1452.41 1517.37 1450.58 1520.93 Q1448.77 1524.47 1448.77 1531.6 Q1448.77 1538.71 1450.58 1542.27 Q1452.41 1545.82 1456.02 1545.82 Q1459.65 1545.82 1461.46 1542.27 Q1463.29 1538.71 1463.29 1531.6 Q1463.29 1524.47 1461.46 1520.93 Q1459.65 1517.37 1456.02 1517.37 M1456.02 1513.66 Q1461.83 1513.66 1464.88 1518.27 Q1467.96 1522.85 1467.96 1531.6 Q1467.96 1540.33 1464.88 1544.94 Q1461.83 1549.52 1456.02 1549.52 Q1450.21 1549.52 1447.13 1544.94 Q1444.07 1540.33 1444.07 1531.6 Q1444.07 1522.85 1447.13 1518.27 Q1450.21 1513.66 1456.02 1513.66 Z\" fill=\"#000000\" fill-rule=\"evenodd\" fill-opacity=\"1\" /><path clip-path=\"url(#clip230)\" d=\"M1853.93 1518.36 L1842.13 1536.81 L1853.93 1536.81 L1853.93 1518.36 M1852.71 1514.29 L1858.58 1514.29 L1858.58 1536.81 L1863.52 1536.81 L1863.52 1540.7 L1858.58 1540.7 L1858.58 1548.85 L1853.93 1548.85 L1853.93 1540.7 L1838.33 1540.7 L1838.33 1536.19 L1852.71 1514.29 Z\" fill=\"#000000\" fill-rule=\"evenodd\" fill-opacity=\"1\" /><path clip-path=\"url(#clip230)\" d=\"M1881.25 1517.37 Q1877.64 1517.37 1875.81 1520.93 Q1874 1524.47 1874 1531.6 Q1874 1538.71 1875.81 1542.27 Q1877.64 1545.82 1881.25 1545.82 Q1884.88 1545.82 1886.69 1542.27 Q1888.52 1538.71 1888.52 1531.6 Q1888.52 1524.47 1886.69 1520.93 Q1884.88 1517.37 1881.25 1517.37 M1881.25 1513.66 Q1887.06 1513.66 1890.11 1518.27 Q1893.19 1522.85 1893.19 1531.6 Q1893.19 1540.33 1890.11 1544.94 Q1887.06 1549.52 1881.25 1549.52 Q1875.44 1549.52 1872.36 1544.94 Q1869.3 1540.33 1869.3 1531.6 Q1869.3 1522.85 1872.36 1518.27 Q1875.44 1513.66 1881.25 1513.66 Z\" fill=\"#000000\" fill-rule=\"evenodd\" fill-opacity=\"1\" /><path clip-path=\"url(#clip230)\" d=\"M2265.04 1514.29 L2283.4 1514.29 L2283.4 1518.22 L2269.32 1518.22 L2269.32 1526.7 Q2270.34 1526.35 2271.36 1526.19 Q2272.38 1526 2273.4 1526 Q2279.19 1526 2282.56 1529.17 Q2285.94 1532.34 2285.94 1537.76 Q2285.94 1543.34 2282.47 1546.44 Q2279 1549.52 2272.68 1549.52 Q2270.5 1549.52 2268.24 1549.15 Q2265.99 1548.78 2263.58 1548.04 L2263.58 1543.34 Q2265.67 1544.47 2267.89 1545.03 Q2270.11 1545.58 2272.59 1545.58 Q2276.59 1545.58 2278.93 1543.48 Q2281.27 1541.37 2281.27 1537.76 Q2281.27 1534.15 2278.93 1532.04 Q2276.59 1529.94 2272.59 1529.94 Q2270.71 1529.94 2268.84 1530.35 Q2266.99 1530.77 2265.04 1531.65 L2265.04 1514.29 Z\" fill=\"#000000\" fill-rule=\"evenodd\" fill-opacity=\"1\" /><path clip-path=\"url(#clip230)\" d=\"M2305.16 1517.37 Q2301.55 1517.37 2299.72 1520.93 Q2297.91 1524.47 2297.91 1531.6 Q2297.91 1538.71 2299.72 1542.27 Q2301.55 1545.82 2305.16 1545.82 Q2308.79 1545.82 2310.6 1542.27 Q2312.43 1538.71 2312.43 1531.6 Q2312.43 1524.47 2310.6 1520.93 Q2308.79 1517.37 2305.16 1517.37 M2305.16 1513.66 Q2310.97 1513.66 2314.02 1518.27 Q2317.1 1522.85 2317.1 1531.6 Q2317.1 1540.33 2314.02 1544.94 Q2310.97 1549.52 2305.16 1549.52 Q2299.35 1549.52 2296.27 1544.94 Q2293.21 1540.33 2293.21 1531.6 Q2293.21 1522.85 2296.27 1518.27 Q2299.35 1513.66 2305.16 1513.66 Z\" fill=\"#000000\" fill-rule=\"evenodd\" fill-opacity=\"1\" /><polyline clip-path=\"url(#clip232)\" style=\"stroke:#000000; stroke-linecap:butt; stroke-linejoin:round; stroke-width:2; stroke-opacity:0.1; fill:none\" points=\"\n  147.478,1251.01 2352.76,1251.01 \n  \"/>\n<polyline clip-path=\"url(#clip232)\" style=\"stroke:#000000; stroke-linecap:butt; stroke-linejoin:round; stroke-width:2; stroke-opacity:0.1; fill:none\" points=\"\n  147.478,933.527 2352.76,933.527 \n  \"/>\n<polyline clip-path=\"url(#clip232)\" style=\"stroke:#000000; stroke-linecap:butt; stroke-linejoin:round; stroke-width:2; stroke-opacity:0.1; fill:none\" points=\"\n  147.478,616.044 2352.76,616.044 \n  \"/>\n<polyline clip-path=\"url(#clip232)\" style=\"stroke:#000000; stroke-linecap:butt; stroke-linejoin:round; stroke-width:2; stroke-opacity:0.1; fill:none\" points=\"\n  147.478,298.561 2352.76,298.561 \n  \"/>\n<polyline clip-path=\"url(#clip230)\" style=\"stroke:#000000; stroke-linecap:butt; stroke-linejoin:round; stroke-width:4; stroke-opacity:1; fill:none\" points=\"\n  147.478,1486.45 147.478,47.2441 \n  \"/>\n<polyline clip-path=\"url(#clip230)\" style=\"stroke:#000000; stroke-linecap:butt; stroke-linejoin:round; stroke-width:4; stroke-opacity:1; fill:none\" points=\"\n  147.478,1251.01 166.376,1251.01 \n  \"/>\n<polyline clip-path=\"url(#clip230)\" style=\"stroke:#000000; stroke-linecap:butt; stroke-linejoin:round; stroke-width:4; stroke-opacity:1; fill:none\" points=\"\n  147.478,933.527 166.376,933.527 \n  \"/>\n<polyline clip-path=\"url(#clip230)\" style=\"stroke:#000000; stroke-linecap:butt; stroke-linejoin:round; stroke-width:4; stroke-opacity:1; fill:none\" points=\"\n  147.478,616.044 166.376,616.044 \n  \"/>\n<polyline clip-path=\"url(#clip230)\" style=\"stroke:#000000; stroke-linecap:butt; stroke-linejoin:round; stroke-width:4; stroke-opacity:1; fill:none\" points=\"\n  147.478,298.561 166.376,298.561 \n  \"/>\n<path clip-path=\"url(#clip230)\" d=\"M51.3625 1251.46 L81.0383 1251.46 L81.0383 1255.4 L51.3625 1255.4 L51.3625 1251.46 Z\" fill=\"#000000\" fill-rule=\"evenodd\" fill-opacity=\"1\" /><path clip-path=\"url(#clip230)\" d=\"M95.1586 1264.35 L111.478 1264.35 L111.478 1268.29 L89.5336 1268.29 L89.5336 1264.35 Q92.1956 1261.6 96.7789 1256.97 Q101.385 1252.32 102.566 1250.98 Q104.811 1248.45 105.691 1246.72 Q106.594 1244.96 106.594 1243.27 Q106.594 1240.51 104.649 1238.78 Q102.728 1237.04 99.6261 1237.04 Q97.4271 1237.04 94.9734 1237.8 Q92.5428 1238.57 89.7651 1240.12 L89.7651 1235.4 Q92.5891 1234.26 95.0428 1233.68 Q97.4965 1233.11 99.5335 1233.11 Q104.904 1233.11 108.098 1235.79 Q111.293 1238.48 111.293 1242.97 Q111.293 1245.1 110.483 1247.02 Q109.696 1248.92 107.589 1251.51 Q107.01 1252.18 103.909 1255.4 Q100.807 1258.59 95.1586 1264.35 Z\" fill=\"#000000\" fill-rule=\"evenodd\" fill-opacity=\"1\" /><path clip-path=\"url(#clip230)\" d=\"M50.9921 933.978 L80.6679 933.978 L80.6679 937.913 L50.9921 937.913 L50.9921 933.978 Z\" fill=\"#000000\" fill-rule=\"evenodd\" fill-opacity=\"1\" /><path clip-path=\"url(#clip230)\" d=\"M91.5706 946.872 L99.2095 946.872 L99.2095 920.506 L90.8993 922.173 L90.8993 917.914 L99.1632 916.247 L103.839 916.247 L103.839 946.872 L111.478 946.872 L111.478 950.807 L91.5706 950.807 L91.5706 946.872 Z\" fill=\"#000000\" fill-rule=\"evenodd\" fill-opacity=\"1\" /><path clip-path=\"url(#clip230)\" d=\"M99.5335 601.842 Q95.9224 601.842 94.0937 605.407 Q92.2882 608.949 92.2882 616.079 Q92.2882 623.185 94.0937 626.75 Q95.9224 630.291 99.5335 630.291 Q103.168 630.291 104.973 626.75 Q106.802 623.185 106.802 616.079 Q106.802 608.949 104.973 605.407 Q103.168 601.842 99.5335 601.842 M99.5335 598.139 Q105.344 598.139 108.399 602.745 Q111.478 607.329 111.478 616.079 Q111.478 624.805 108.399 629.412 Q105.344 633.995 99.5335 633.995 Q93.7234 633.995 90.6447 629.412 Q87.5892 624.805 87.5892 616.079 Q87.5892 607.329 90.6447 602.745 Q93.7234 598.139 99.5335 598.139 Z\" fill=\"#000000\" fill-rule=\"evenodd\" fill-opacity=\"1\" /><path clip-path=\"url(#clip230)\" d=\"M91.5706 311.906 L99.2095 311.906 L99.2095 285.54 L90.8993 287.207 L90.8993 282.947 L99.1632 281.281 L103.839 281.281 L103.839 311.906 L111.478 311.906 L111.478 315.841 L91.5706 315.841 L91.5706 311.906 Z\" fill=\"#000000\" fill-rule=\"evenodd\" fill-opacity=\"1\" /><polyline clip-path=\"url(#clip232)\" style=\"stroke:#009af9; stroke-linecap:butt; stroke-linejoin:round; stroke-width:4; stroke-opacity:1; fill:none\" points=\"\n  209.891,1064.01 252.35,1037.02 294.808,694.287 337.266,964.518 379.724,1028.18 422.182,559.549 464.641,926.86 507.099,785.841 549.557,248.996 592.015,916.961 \n  634.473,420.686 676.931,533.618 719.39,287.226 761.848,514.465 804.306,220.225 846.764,249.524 889.222,503.133 931.681,1217.3 974.139,1042.07 1016.6,813.774 \n  1059.06,398.016 1101.51,423.88 1143.97,221.174 1186.43,828.754 1228.89,407.352 1271.35,204.527 1313.8,646.719 1356.26,538.014 1398.72,1203.9 1441.18,1445.72 \n  1483.64,1028.27 1526.1,714.549 1568.55,642.534 1611.01,557.832 1653.47,649.953 1695.93,992.025 1738.39,753.183 1780.84,999.178 1823.3,826.875 1865.76,301.044 \n  1908.22,605.98 1950.68,578.109 1993.14,917.775 2035.59,539.854 2078.05,1121.17 2120.51,808.806 2162.97,203.103 2205.43,643.624 2247.88,492.452 2290.34,87.9763 \n  \n  \"/>\n<path clip-path=\"url(#clip230)\" d=\"\nM1986.82 198.898 L2279.25 198.898 L2279.25 95.2176 L1986.82 95.2176  Z\n  \" fill=\"#ffffff\" fill-rule=\"evenodd\" fill-opacity=\"1\"/>\n<polyline clip-path=\"url(#clip230)\" style=\"stroke:#000000; stroke-linecap:butt; stroke-linejoin:round; stroke-width:4; stroke-opacity:1; fill:none\" points=\"\n  1986.82,198.898 2279.25,198.898 2279.25,95.2176 1986.82,95.2176 1986.82,198.898 \n  \"/>\n<polyline clip-path=\"url(#clip230)\" style=\"stroke:#009af9; stroke-linecap:butt; stroke-linejoin:round; stroke-width:4; stroke-opacity:1; fill:none\" points=\"\n  2010.82,147.058 2154.82,147.058 \n  \"/>\n<path clip-path=\"url(#clip230)\" d=\"M2192.66 166.745 Q2190.85 171.375 2189.14 172.787 Q2187.43 174.199 2184.56 174.199 L2181.15 174.199 L2181.15 170.634 L2183.65 170.634 Q2185.41 170.634 2186.39 169.8 Q2187.36 168.967 2188.54 165.865 L2189.3 163.921 L2178.82 138.412 L2183.33 138.412 L2191.43 158.689 L2199.53 138.412 L2204.05 138.412 L2192.66 166.745 Z\" fill=\"#000000\" fill-rule=\"evenodd\" fill-opacity=\"1\" /><path clip-path=\"url(#clip230)\" d=\"M2211.34 160.402 L2218.98 160.402 L2218.98 134.037 L2210.67 135.703 L2210.67 131.444 L2218.93 129.778 L2223.61 129.778 L2223.61 160.402 L2231.25 160.402 L2231.25 164.338 L2211.34 164.338 L2211.34 160.402 Z\" fill=\"#000000\" fill-rule=\"evenodd\" fill-opacity=\"1\" /></svg>\n",
      "text/html": [
       "<?xml version=\"1.0\" encoding=\"utf-8\"?>\n",
       "<svg xmlns=\"http://www.w3.org/2000/svg\" xmlns:xlink=\"http://www.w3.org/1999/xlink\" width=\"600\" height=\"400\" viewBox=\"0 0 2400 1600\">\n",
       "<defs>\n",
       "  <clipPath id=\"clip280\">\n",
       "    <rect x=\"0\" y=\"0\" width=\"2400\" height=\"1600\"/>\n",
       "  </clipPath>\n",
       "</defs>\n",
       "<path clip-path=\"url(#clip280)\" d=\"\n",
       "M0 1600 L2400 1600 L2400 0 L0 0  Z\n",
       "  \" fill=\"#ffffff\" fill-rule=\"evenodd\" fill-opacity=\"1\"/>\n",
       "<defs>\n",
       "  <clipPath id=\"clip281\">\n",
       "    <rect x=\"480\" y=\"0\" width=\"1681\" height=\"1600\"/>\n",
       "  </clipPath>\n",
       "</defs>\n",
       "<path clip-path=\"url(#clip280)\" d=\"\n",
       "M147.478 1486.45 L2352.76 1486.45 L2352.76 47.2441 L147.478 47.2441  Z\n",
       "  \" fill=\"#ffffff\" fill-rule=\"evenodd\" fill-opacity=\"1\"/>\n",
       "<defs>\n",
       "  <clipPath id=\"clip282\">\n",
       "    <rect x=\"147\" y=\"47\" width=\"2206\" height=\"1440\"/>\n",
       "  </clipPath>\n",
       "</defs>\n",
       "<polyline clip-path=\"url(#clip282)\" style=\"stroke:#000000; stroke-linecap:butt; stroke-linejoin:round; stroke-width:2; stroke-opacity:0.1; fill:none\" points=\"\n",
       "  167.433,1486.45 167.433,47.2441 \n",
       "  \"/>\n",
       "<polyline clip-path=\"url(#clip282)\" style=\"stroke:#000000; stroke-linecap:butt; stroke-linejoin:round; stroke-width:2; stroke-opacity:0.1; fill:none\" points=\"\n",
       "  592.015,1486.45 592.015,47.2441 \n",
       "  \"/>\n",
       "<polyline clip-path=\"url(#clip282)\" style=\"stroke:#000000; stroke-linecap:butt; stroke-linejoin:round; stroke-width:2; stroke-opacity:0.1; fill:none\" points=\"\n",
       "  1016.6,1486.45 1016.6,47.2441 \n",
       "  \"/>\n",
       "<polyline clip-path=\"url(#clip282)\" style=\"stroke:#000000; stroke-linecap:butt; stroke-linejoin:round; stroke-width:2; stroke-opacity:0.1; fill:none\" points=\"\n",
       "  1441.18,1486.45 1441.18,47.2441 \n",
       "  \"/>\n",
       "<polyline clip-path=\"url(#clip282)\" style=\"stroke:#000000; stroke-linecap:butt; stroke-linejoin:round; stroke-width:2; stroke-opacity:0.1; fill:none\" points=\"\n",
       "  1865.76,1486.45 1865.76,47.2441 \n",
       "  \"/>\n",
       "<polyline clip-path=\"url(#clip282)\" style=\"stroke:#000000; stroke-linecap:butt; stroke-linejoin:round; stroke-width:2; stroke-opacity:0.1; fill:none\" points=\"\n",
       "  2290.34,1486.45 2290.34,47.2441 \n",
       "  \"/>\n",
       "<polyline clip-path=\"url(#clip280)\" style=\"stroke:#000000; stroke-linecap:butt; stroke-linejoin:round; stroke-width:4; stroke-opacity:1; fill:none\" points=\"\n",
       "  147.478,1486.45 2352.76,1486.45 \n",
       "  \"/>\n",
       "<polyline clip-path=\"url(#clip280)\" style=\"stroke:#000000; stroke-linecap:butt; stroke-linejoin:round; stroke-width:4; stroke-opacity:1; fill:none\" points=\"\n",
       "  167.433,1486.45 167.433,1467.55 \n",
       "  \"/>\n",
       "<polyline clip-path=\"url(#clip280)\" style=\"stroke:#000000; stroke-linecap:butt; stroke-linejoin:round; stroke-width:4; stroke-opacity:1; fill:none\" points=\"\n",
       "  592.015,1486.45 592.015,1467.55 \n",
       "  \"/>\n",
       "<polyline clip-path=\"url(#clip280)\" style=\"stroke:#000000; stroke-linecap:butt; stroke-linejoin:round; stroke-width:4; stroke-opacity:1; fill:none\" points=\"\n",
       "  1016.6,1486.45 1016.6,1467.55 \n",
       "  \"/>\n",
       "<polyline clip-path=\"url(#clip280)\" style=\"stroke:#000000; stroke-linecap:butt; stroke-linejoin:round; stroke-width:4; stroke-opacity:1; fill:none\" points=\"\n",
       "  1441.18,1486.45 1441.18,1467.55 \n",
       "  \"/>\n",
       "<polyline clip-path=\"url(#clip280)\" style=\"stroke:#000000; stroke-linecap:butt; stroke-linejoin:round; stroke-width:4; stroke-opacity:1; fill:none\" points=\"\n",
       "  1865.76,1486.45 1865.76,1467.55 \n",
       "  \"/>\n",
       "<polyline clip-path=\"url(#clip280)\" style=\"stroke:#000000; stroke-linecap:butt; stroke-linejoin:round; stroke-width:4; stroke-opacity:1; fill:none\" points=\"\n",
       "  2290.34,1486.45 2290.34,1467.55 \n",
       "  \"/>\n",
       "<path clip-path=\"url(#clip280)\" d=\"M167.433 1517.37 Q163.822 1517.37 161.993 1520.93 Q160.188 1524.47 160.188 1531.6 Q160.188 1538.71 161.993 1542.27 Q163.822 1545.82 167.433 1545.82 Q171.067 1545.82 172.873 1542.27 Q174.702 1538.71 174.702 1531.6 Q174.702 1524.47 172.873 1520.93 Q171.067 1517.37 167.433 1517.37 M167.433 1513.66 Q173.243 1513.66 176.299 1518.27 Q179.378 1522.85 179.378 1531.6 Q179.378 1540.33 176.299 1544.94 Q173.243 1549.52 167.433 1549.52 Q161.623 1549.52 158.544 1544.94 Q155.489 1540.33 155.489 1531.6 Q155.489 1522.85 158.544 1518.27 Q161.623 1513.66 167.433 1513.66 Z\" fill=\"#000000\" fill-rule=\"evenodd\" fill-opacity=\"1\" /><path clip-path=\"url(#clip280)\" d=\"M566.703 1544.91 L574.342 1544.91 L574.342 1518.55 L566.031 1520.21 L566.031 1515.95 L574.295 1514.29 L578.971 1514.29 L578.971 1544.91 L586.61 1544.91 L586.61 1548.85 L566.703 1548.85 L566.703 1544.91 Z\" fill=\"#000000\" fill-rule=\"evenodd\" fill-opacity=\"1\" /><path clip-path=\"url(#clip280)\" d=\"M606.054 1517.37 Q602.443 1517.37 600.615 1520.93 Q598.809 1524.47 598.809 1531.6 Q598.809 1538.71 600.615 1542.27 Q602.443 1545.82 606.054 1545.82 Q609.689 1545.82 611.494 1542.27 Q613.323 1538.71 613.323 1531.6 Q613.323 1524.47 611.494 1520.93 Q609.689 1517.37 606.054 1517.37 M606.054 1513.66 Q611.865 1513.66 614.92 1518.27 Q617.999 1522.85 617.999 1531.6 Q617.999 1540.33 614.92 1544.94 Q611.865 1549.52 606.054 1549.52 Q600.244 1549.52 597.166 1544.94 Q594.11 1540.33 594.11 1531.6 Q594.11 1522.85 597.166 1518.27 Q600.244 1513.66 606.054 1513.66 Z\" fill=\"#000000\" fill-rule=\"evenodd\" fill-opacity=\"1\" /><path clip-path=\"url(#clip280)\" d=\"M995.37 1544.91 L1011.69 1544.91 L1011.69 1548.85 L989.745 1548.85 L989.745 1544.91 Q992.407 1542.16 996.991 1537.53 Q1001.6 1532.88 1002.78 1531.53 Q1005.02 1529.01 1005.9 1527.27 Q1006.81 1525.51 1006.81 1523.82 Q1006.81 1521.07 1004.86 1519.33 Q1002.94 1517.6 999.838 1517.6 Q997.639 1517.6 995.185 1518.36 Q992.754 1519.13 989.977 1520.68 L989.977 1515.95 Q992.801 1514.82 995.254 1514.24 Q997.708 1513.66 999.745 1513.66 Q1005.12 1513.66 1008.31 1516.35 Q1011.5 1519.03 1011.5 1523.52 Q1011.5 1525.65 1010.69 1527.57 Q1009.91 1529.47 1007.8 1532.07 Q1007.22 1532.74 1004.12 1535.95 Q1001.02 1539.15 995.37 1544.91 Z\" fill=\"#000000\" fill-rule=\"evenodd\" fill-opacity=\"1\" /><path clip-path=\"url(#clip280)\" d=\"M1031.5 1517.37 Q1027.89 1517.37 1026.06 1520.93 Q1024.26 1524.47 1024.26 1531.6 Q1024.26 1538.71 1026.06 1542.27 Q1027.89 1545.82 1031.5 1545.82 Q1035.14 1545.82 1036.94 1542.27 Q1038.77 1538.71 1038.77 1531.6 Q1038.77 1524.47 1036.94 1520.93 Q1035.14 1517.37 1031.5 1517.37 M1031.5 1513.66 Q1037.31 1513.66 1040.37 1518.27 Q1043.45 1522.85 1043.45 1531.6 Q1043.45 1540.33 1040.37 1544.94 Q1037.31 1549.52 1031.5 1549.52 Q1025.69 1549.52 1022.62 1544.94 Q1019.56 1540.33 1019.56 1531.6 Q1019.56 1522.85 1022.62 1518.27 Q1025.69 1513.66 1031.5 1513.66 Z\" fill=\"#000000\" fill-rule=\"evenodd\" fill-opacity=\"1\" /><path clip-path=\"url(#clip280)\" d=\"M1430.02 1530.21 Q1433.38 1530.93 1435.25 1533.2 Q1437.15 1535.47 1437.15 1538.8 Q1437.15 1543.92 1433.63 1546.72 Q1430.11 1549.52 1423.63 1549.52 Q1421.46 1549.52 1419.14 1549.08 Q1416.85 1548.66 1414.4 1547.81 L1414.4 1543.29 Q1416.34 1544.43 1418.66 1545.01 Q1420.97 1545.58 1423.49 1545.58 Q1427.89 1545.58 1430.18 1543.85 Q1432.5 1542.11 1432.5 1538.8 Q1432.5 1535.75 1430.35 1534.03 Q1428.22 1532.3 1424.4 1532.3 L1420.37 1532.3 L1420.37 1528.45 L1424.58 1528.45 Q1428.03 1528.45 1429.86 1527.09 Q1431.69 1525.7 1431.69 1523.11 Q1431.69 1520.45 1429.79 1519.03 Q1427.91 1517.6 1424.4 1517.6 Q1422.48 1517.6 1420.28 1518.01 Q1418.08 1518.43 1415.44 1519.31 L1415.44 1515.14 Q1418.1 1514.4 1420.41 1514.03 Q1422.75 1513.66 1424.81 1513.66 Q1430.14 1513.66 1433.24 1516.09 Q1436.34 1518.5 1436.34 1522.62 Q1436.34 1525.49 1434.7 1527.48 Q1433.05 1529.45 1430.02 1530.21 Z\" fill=\"#000000\" fill-rule=\"evenodd\" fill-opacity=\"1\" /><path clip-path=\"url(#clip280)\" d=\"M1456.02 1517.37 Q1452.41 1517.37 1450.58 1520.93 Q1448.77 1524.47 1448.77 1531.6 Q1448.77 1538.71 1450.58 1542.27 Q1452.41 1545.82 1456.02 1545.82 Q1459.65 1545.82 1461.46 1542.27 Q1463.29 1538.71 1463.29 1531.6 Q1463.29 1524.47 1461.46 1520.93 Q1459.65 1517.37 1456.02 1517.37 M1456.02 1513.66 Q1461.83 1513.66 1464.88 1518.27 Q1467.96 1522.85 1467.96 1531.6 Q1467.96 1540.33 1464.88 1544.94 Q1461.83 1549.52 1456.02 1549.52 Q1450.21 1549.52 1447.13 1544.94 Q1444.07 1540.33 1444.07 1531.6 Q1444.07 1522.85 1447.13 1518.27 Q1450.21 1513.66 1456.02 1513.66 Z\" fill=\"#000000\" fill-rule=\"evenodd\" fill-opacity=\"1\" /><path clip-path=\"url(#clip280)\" d=\"M1853.93 1518.36 L1842.13 1536.81 L1853.93 1536.81 L1853.93 1518.36 M1852.71 1514.29 L1858.58 1514.29 L1858.58 1536.81 L1863.52 1536.81 L1863.52 1540.7 L1858.58 1540.7 L1858.58 1548.85 L1853.93 1548.85 L1853.93 1540.7 L1838.33 1540.7 L1838.33 1536.19 L1852.71 1514.29 Z\" fill=\"#000000\" fill-rule=\"evenodd\" fill-opacity=\"1\" /><path clip-path=\"url(#clip280)\" d=\"M1881.25 1517.37 Q1877.64 1517.37 1875.81 1520.93 Q1874 1524.47 1874 1531.6 Q1874 1538.71 1875.81 1542.27 Q1877.64 1545.82 1881.25 1545.82 Q1884.88 1545.82 1886.69 1542.27 Q1888.52 1538.71 1888.52 1531.6 Q1888.52 1524.47 1886.69 1520.93 Q1884.88 1517.37 1881.25 1517.37 M1881.25 1513.66 Q1887.06 1513.66 1890.11 1518.27 Q1893.19 1522.85 1893.19 1531.6 Q1893.19 1540.33 1890.11 1544.94 Q1887.06 1549.52 1881.25 1549.52 Q1875.44 1549.52 1872.36 1544.94 Q1869.3 1540.33 1869.3 1531.6 Q1869.3 1522.85 1872.36 1518.27 Q1875.44 1513.66 1881.25 1513.66 Z\" fill=\"#000000\" fill-rule=\"evenodd\" fill-opacity=\"1\" /><path clip-path=\"url(#clip280)\" d=\"M2265.04 1514.29 L2283.4 1514.29 L2283.4 1518.22 L2269.32 1518.22 L2269.32 1526.7 Q2270.34 1526.35 2271.36 1526.19 Q2272.38 1526 2273.4 1526 Q2279.19 1526 2282.56 1529.17 Q2285.94 1532.34 2285.94 1537.76 Q2285.94 1543.34 2282.47 1546.44 Q2279 1549.52 2272.68 1549.52 Q2270.5 1549.52 2268.24 1549.15 Q2265.99 1548.78 2263.58 1548.04 L2263.58 1543.34 Q2265.67 1544.47 2267.89 1545.03 Q2270.11 1545.58 2272.59 1545.58 Q2276.59 1545.58 2278.93 1543.48 Q2281.27 1541.37 2281.27 1537.76 Q2281.27 1534.15 2278.93 1532.04 Q2276.59 1529.94 2272.59 1529.94 Q2270.71 1529.94 2268.84 1530.35 Q2266.99 1530.77 2265.04 1531.65 L2265.04 1514.29 Z\" fill=\"#000000\" fill-rule=\"evenodd\" fill-opacity=\"1\" /><path clip-path=\"url(#clip280)\" d=\"M2305.16 1517.37 Q2301.55 1517.37 2299.72 1520.93 Q2297.91 1524.47 2297.91 1531.6 Q2297.91 1538.71 2299.72 1542.27 Q2301.55 1545.82 2305.16 1545.82 Q2308.79 1545.82 2310.6 1542.27 Q2312.43 1538.71 2312.43 1531.6 Q2312.43 1524.47 2310.6 1520.93 Q2308.79 1517.37 2305.16 1517.37 M2305.16 1513.66 Q2310.97 1513.66 2314.02 1518.27 Q2317.1 1522.85 2317.1 1531.6 Q2317.1 1540.33 2314.02 1544.94 Q2310.97 1549.52 2305.16 1549.52 Q2299.35 1549.52 2296.27 1544.94 Q2293.21 1540.33 2293.21 1531.6 Q2293.21 1522.85 2296.27 1518.27 Q2299.35 1513.66 2305.16 1513.66 Z\" fill=\"#000000\" fill-rule=\"evenodd\" fill-opacity=\"1\" /><polyline clip-path=\"url(#clip282)\" style=\"stroke:#000000; stroke-linecap:butt; stroke-linejoin:round; stroke-width:2; stroke-opacity:0.1; fill:none\" points=\"\n",
       "  147.478,1251.01 2352.76,1251.01 \n",
       "  \"/>\n",
       "<polyline clip-path=\"url(#clip282)\" style=\"stroke:#000000; stroke-linecap:butt; stroke-linejoin:round; stroke-width:2; stroke-opacity:0.1; fill:none\" points=\"\n",
       "  147.478,933.527 2352.76,933.527 \n",
       "  \"/>\n",
       "<polyline clip-path=\"url(#clip282)\" style=\"stroke:#000000; stroke-linecap:butt; stroke-linejoin:round; stroke-width:2; stroke-opacity:0.1; fill:none\" points=\"\n",
       "  147.478,616.044 2352.76,616.044 \n",
       "  \"/>\n",
       "<polyline clip-path=\"url(#clip282)\" style=\"stroke:#000000; stroke-linecap:butt; stroke-linejoin:round; stroke-width:2; stroke-opacity:0.1; fill:none\" points=\"\n",
       "  147.478,298.561 2352.76,298.561 \n",
       "  \"/>\n",
       "<polyline clip-path=\"url(#clip280)\" style=\"stroke:#000000; stroke-linecap:butt; stroke-linejoin:round; stroke-width:4; stroke-opacity:1; fill:none\" points=\"\n",
       "  147.478,1486.45 147.478,47.2441 \n",
       "  \"/>\n",
       "<polyline clip-path=\"url(#clip280)\" style=\"stroke:#000000; stroke-linecap:butt; stroke-linejoin:round; stroke-width:4; stroke-opacity:1; fill:none\" points=\"\n",
       "  147.478,1251.01 166.376,1251.01 \n",
       "  \"/>\n",
       "<polyline clip-path=\"url(#clip280)\" style=\"stroke:#000000; stroke-linecap:butt; stroke-linejoin:round; stroke-width:4; stroke-opacity:1; fill:none\" points=\"\n",
       "  147.478,933.527 166.376,933.527 \n",
       "  \"/>\n",
       "<polyline clip-path=\"url(#clip280)\" style=\"stroke:#000000; stroke-linecap:butt; stroke-linejoin:round; stroke-width:4; stroke-opacity:1; fill:none\" points=\"\n",
       "  147.478,616.044 166.376,616.044 \n",
       "  \"/>\n",
       "<polyline clip-path=\"url(#clip280)\" style=\"stroke:#000000; stroke-linecap:butt; stroke-linejoin:round; stroke-width:4; stroke-opacity:1; fill:none\" points=\"\n",
       "  147.478,298.561 166.376,298.561 \n",
       "  \"/>\n",
       "<path clip-path=\"url(#clip280)\" d=\"M51.3625 1251.46 L81.0383 1251.46 L81.0383 1255.4 L51.3625 1255.4 L51.3625 1251.46 Z\" fill=\"#000000\" fill-rule=\"evenodd\" fill-opacity=\"1\" /><path clip-path=\"url(#clip280)\" d=\"M95.1586 1264.35 L111.478 1264.35 L111.478 1268.29 L89.5336 1268.29 L89.5336 1264.35 Q92.1956 1261.6 96.7789 1256.97 Q101.385 1252.32 102.566 1250.98 Q104.811 1248.45 105.691 1246.72 Q106.594 1244.96 106.594 1243.27 Q106.594 1240.51 104.649 1238.78 Q102.728 1237.04 99.6261 1237.04 Q97.4271 1237.04 94.9734 1237.8 Q92.5428 1238.57 89.7651 1240.12 L89.7651 1235.4 Q92.5891 1234.26 95.0428 1233.68 Q97.4965 1233.11 99.5335 1233.11 Q104.904 1233.11 108.098 1235.79 Q111.293 1238.48 111.293 1242.97 Q111.293 1245.1 110.483 1247.02 Q109.696 1248.92 107.589 1251.51 Q107.01 1252.18 103.909 1255.4 Q100.807 1258.59 95.1586 1264.35 Z\" fill=\"#000000\" fill-rule=\"evenodd\" fill-opacity=\"1\" /><path clip-path=\"url(#clip280)\" d=\"M50.9921 933.978 L80.6679 933.978 L80.6679 937.913 L50.9921 937.913 L50.9921 933.978 Z\" fill=\"#000000\" fill-rule=\"evenodd\" fill-opacity=\"1\" /><path clip-path=\"url(#clip280)\" d=\"M91.5706 946.872 L99.2095 946.872 L99.2095 920.506 L90.8993 922.173 L90.8993 917.914 L99.1632 916.247 L103.839 916.247 L103.839 946.872 L111.478 946.872 L111.478 950.807 L91.5706 950.807 L91.5706 946.872 Z\" fill=\"#000000\" fill-rule=\"evenodd\" fill-opacity=\"1\" /><path clip-path=\"url(#clip280)\" d=\"M99.5335 601.842 Q95.9224 601.842 94.0937 605.407 Q92.2882 608.949 92.2882 616.079 Q92.2882 623.185 94.0937 626.75 Q95.9224 630.291 99.5335 630.291 Q103.168 630.291 104.973 626.75 Q106.802 623.185 106.802 616.079 Q106.802 608.949 104.973 605.407 Q103.168 601.842 99.5335 601.842 M99.5335 598.139 Q105.344 598.139 108.399 602.745 Q111.478 607.329 111.478 616.079 Q111.478 624.805 108.399 629.412 Q105.344 633.995 99.5335 633.995 Q93.7234 633.995 90.6447 629.412 Q87.5892 624.805 87.5892 616.079 Q87.5892 607.329 90.6447 602.745 Q93.7234 598.139 99.5335 598.139 Z\" fill=\"#000000\" fill-rule=\"evenodd\" fill-opacity=\"1\" /><path clip-path=\"url(#clip280)\" d=\"M91.5706 311.906 L99.2095 311.906 L99.2095 285.54 L90.8993 287.207 L90.8993 282.947 L99.1632 281.281 L103.839 281.281 L103.839 311.906 L111.478 311.906 L111.478 315.841 L91.5706 315.841 L91.5706 311.906 Z\" fill=\"#000000\" fill-rule=\"evenodd\" fill-opacity=\"1\" /><polyline clip-path=\"url(#clip282)\" style=\"stroke:#009af9; stroke-linecap:butt; stroke-linejoin:round; stroke-width:4; stroke-opacity:1; fill:none\" points=\"\n",
       "  209.891,1064.01 252.35,1037.02 294.808,694.287 337.266,964.518 379.724,1028.18 422.182,559.549 464.641,926.86 507.099,785.841 549.557,248.996 592.015,916.961 \n",
       "  634.473,420.686 676.931,533.618 719.39,287.226 761.848,514.465 804.306,220.225 846.764,249.524 889.222,503.133 931.681,1217.3 974.139,1042.07 1016.6,813.774 \n",
       "  1059.06,398.016 1101.51,423.88 1143.97,221.174 1186.43,828.754 1228.89,407.352 1271.35,204.527 1313.8,646.719 1356.26,538.014 1398.72,1203.9 1441.18,1445.72 \n",
       "  1483.64,1028.27 1526.1,714.549 1568.55,642.534 1611.01,557.832 1653.47,649.953 1695.93,992.025 1738.39,753.183 1780.84,999.178 1823.3,826.875 1865.76,301.044 \n",
       "  1908.22,605.98 1950.68,578.109 1993.14,917.775 2035.59,539.854 2078.05,1121.17 2120.51,808.806 2162.97,203.103 2205.43,643.624 2247.88,492.452 2290.34,87.9763 \n",
       "  \n",
       "  \"/>\n",
       "<path clip-path=\"url(#clip280)\" d=\"\n",
       "M1986.82 198.898 L2279.25 198.898 L2279.25 95.2176 L1986.82 95.2176  Z\n",
       "  \" fill=\"#ffffff\" fill-rule=\"evenodd\" fill-opacity=\"1\"/>\n",
       "<polyline clip-path=\"url(#clip280)\" style=\"stroke:#000000; stroke-linecap:butt; stroke-linejoin:round; stroke-width:4; stroke-opacity:1; fill:none\" points=\"\n",
       "  1986.82,198.898 2279.25,198.898 2279.25,95.2176 1986.82,95.2176 1986.82,198.898 \n",
       "  \"/>\n",
       "<polyline clip-path=\"url(#clip280)\" style=\"stroke:#009af9; stroke-linecap:butt; stroke-linejoin:round; stroke-width:4; stroke-opacity:1; fill:none\" points=\"\n",
       "  2010.82,147.058 2154.82,147.058 \n",
       "  \"/>\n",
       "<path clip-path=\"url(#clip280)\" d=\"M2192.66 166.745 Q2190.85 171.375 2189.14 172.787 Q2187.43 174.199 2184.56 174.199 L2181.15 174.199 L2181.15 170.634 L2183.65 170.634 Q2185.41 170.634 2186.39 169.8 Q2187.36 168.967 2188.54 165.865 L2189.3 163.921 L2178.82 138.412 L2183.33 138.412 L2191.43 158.689 L2199.53 138.412 L2204.05 138.412 L2192.66 166.745 Z\" fill=\"#000000\" fill-rule=\"evenodd\" fill-opacity=\"1\" /><path clip-path=\"url(#clip280)\" d=\"M2211.34 160.402 L2218.98 160.402 L2218.98 134.037 L2210.67 135.703 L2210.67 131.444 L2218.93 129.778 L2223.61 129.778 L2223.61 160.402 L2231.25 160.402 L2231.25 164.338 L2211.34 164.338 L2211.34 160.402 Z\" fill=\"#000000\" fill-rule=\"evenodd\" fill-opacity=\"1\" /></svg>\n"
      ]
     },
     "metadata": {},
     "output_type": "display_data"
    }
   ],
   "source": [
    "using Plots\n",
    "plot(w)"
   ]
  },
  {
   "cell_type": "markdown",
   "metadata": {},
   "source": [
    "# Testing"
   ]
  },
  {
   "cell_type": "code",
   "execution_count": null,
   "metadata": {},
   "outputs": [],
   "source": [
    "function beam_splitter(input_a, input_b, r)\n",
    "    #Ψ = input_a ⊗ input_b\n",
    "    #ρ = Ψ ⊗ dagger(Ψ)\n",
    "    ρ = (input_a ⊗ input_b) ⊗ dagger(input_a ⊗ input_b)\n",
    "\n",
    "    id_a = identityoperator(input_a.basis)\n",
    "    id_b = identityoperator(input_b.basis)\n",
    "    a = destroy(input_a.basis) ⊗ id_b\n",
    "    b = id_a ⊗ destroy(input_b.basis)\n",
    "\n",
    "    bs_unitary = exp( dense(asin(r)* (dagger(a)*b - a*dagger(b))) ) # This is constant, move out\n",
    "\n",
    "    result_state = bs_unitary * ρ * dagger(bs_unitary)\n",
    "\n",
    "    # This results in an operator...\n",
    "    result_a = ptrace(result_state, 1)\n",
    "    result_b = ptrace(result_state, 2)\n",
    "\n",
    "    return (result_a, result_b)\n",
    "end\n",
    "\n",
    "function beam_splitter_2(input_a, input_b, r) #take a state & op. do it inplace\n",
    "    # take in the product state\n",
    "    Ψ = input_a ⊗ input_b\n",
    "\n",
    "    id_a = identityoperator(input_a.basis)\n",
    "    id_b = identityoperator(input_b.basis)\n",
    "    a = destroy(input_a.basis) ⊗ id_b\n",
    "    b = id_a ⊗ destroy(input_b.basis)\n",
    "\n",
    "    bs_unitary = exp( dense(asin(r)* (dagger(a)*b - a*dagger(b))) ) # This is constant, move out\n",
    "\n",
    "    result_state = bs_unitary * Ψ\n",
    "\n",
    "    return result_state\n",
    "end\n",
    "\n",
    "# Seems to use more memory in addition to being slow (ˇ-ˇ)\n",
    "function lazy_beam_splitter(input_a, input_b, r)\n",
    "    common_basis = tensor(input_a.basis, input_b.basis)\n",
    "    #Ψ = input_a ⊗ input_b\n",
    "    #ρ = Ψ ⊗ dagger(Ψ)\n",
    "    ρ = (input_a ⊗ input_b) ⊗ dagger(input_a ⊗ input_b)\n",
    "\n",
    "    a = LazyTensor(common_basis, [1], (destroy(input_a.basis),))\n",
    "    b = LazyTensor(common_basis, [2], (destroy(input_b.basis),))\n",
    "\n",
    "    bs_unitary = exp(asin(r)*dense( LazySum(LazyProduct(dagger(a), b), -LazyProduct(a, dagger(b))) ))\n",
    "\n",
    "    result_state = dense( LazyProduct( bs_unitary, ρ, dagger(bs_unitary) ) )\n",
    "    #result_state = bs_unitary * ρ * dagger(bs_unitary)\n",
    "\n",
    "    # This results in an operator...\n",
    "    result_a = ptrace(result_state, 1)\n",
    "    result_b = ptrace(result_state, 2)\n",
    "\n",
    "    return (result_a, result_b)\n",
    "end"
   ]
  },
  {
   "cell_type": "code",
   "execution_count": 13,
   "metadata": {},
   "outputs": [
    {
     "name": "stdout",
     "output_type": "stream",
     "text": [
      "Ket(dim=9)\n",
      "  basis: [Fock(cutoff=2) ⊗ Fock(cutoff=2)]\n",
      "                 0.0 + 0.0im\n",
      "  0.7071067811865477 + 0.0im\n",
      "                 0.0 + 0.0im\n",
      " -0.7071067811865475 + 0.0im\n",
      "                 0.0 + 0.0im\n",
      "                 0.0 + 0.0im\n",
      "                 0.0 + 0.0im\n",
      "                 0.0 + 0.0im\n",
      "                 0.0 + 0.0im\n",
      "-0.23399198539460958\n",
      "Ket(dim=9)\n",
      "  basis: [Fock(cutoff=2) ⊗ Fock(cutoff=2)]\n",
      " 0.31416040381973315 + 0.0im\n",
      "  0.9493699177200752 + 0.0im\n",
      "                 0.0 + 0.0im\n",
      "                 0.0 + 0.0im\n",
      "                 0.0 + 0.0im\n",
      "                 0.0 + 0.0im\n",
      "                 0.0 + 0.0im\n",
      "                 0.0 + 0.0im\n",
      "                 0.0 + 0.0im\n"
     ]
    }
   ],
   "source": [
    "using BenchmarkTools\n",
    "\n",
    "N = 3\n",
    "my_basis = FockBasis(2)\n",
    "# x = Ket(my_basis, 2*rand(N)-ones(N))\n",
    "# y = Ket(my_basis, 2*rand(N)-ones(N))\n",
    "x = Ket(my_basis, [0, 1, 0])\n",
    "y = Ket(my_basis, [1, 0, 0]) # vacum state\n",
    "\n",
    "r= 1/sqrt(2)\n",
    "Ψ = x ⊗ y\n",
    "\n",
    "hom = Homodyne(x.basis, y.basis)\n",
    "\n",
    "\n",
    "result_state = bs_unitary * Ψ\n",
    "println(result_state)\n",
    "x_0 = homodyne_b!(hom, result_state, Random.GLOBAL_RNG)\n",
    "println(x_0)\n",
    "println(result_state)\n",
    "# @btime beam_splitter(x, y, 0.5)\n",
    "# println(\"---\")\n",
    "# @btime lazy_beam_splitter(x, y, 0.5)\n"
   ]
  }
 ],
 "metadata": {
  "kernelspec": {
   "display_name": "Julia 1.7.0",
   "language": "julia",
   "name": "julia-1.7"
  },
  "language_info": {
   "file_extension": ".jl",
   "mimetype": "application/julia",
   "name": "julia",
   "version": "1.7.0"
  },
  "orig_nbformat": 4,
  "vscode": {
   "interpreter": {
    "hash": "9365eaae173709d8c1de1a691c8b6464e1440be652c68b8723e14714d9d61118"
   }
  }
 },
 "nbformat": 4,
 "nbformat_minor": 2
}
