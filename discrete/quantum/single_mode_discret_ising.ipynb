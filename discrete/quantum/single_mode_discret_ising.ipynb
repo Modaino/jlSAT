{
 "cells": [
  {
   "cell_type": "markdown",
   "metadata": {},
   "source": [
    "# Single mode C.I.M \n"
   ]
  },
  {
   "cell_type": "markdown",
   "metadata": {},
   "source": [
    "### Imports and includes"
   ]
  },
  {
   "cell_type": "code",
   "execution_count": 1,
   "metadata": {},
   "outputs": [],
   "source": [
    "#import Pkg; Pkg.add(\"QuantumOpticsBase\")\n",
    "#import QuantumOptics\n",
    "using LinearAlgebra\n",
    "using Random\n",
    "using Statistics\n",
    "using Roots\n",
    "using QuadGK\n",
    "using QuantumOptics\n",
    "using Plots\n",
    "include(\"homodyne.jl\")"
   ]
  },
  {
   "cell_type": "markdown",
   "metadata": {},
   "source": [
    "### Parameters"
   ]
  },
  {
   "cell_type": "code",
   "execution_count": null,
   "metadata": {},
   "outputs": [],
   "source": [
    "ϵτ = 1.0\n",
    "β = 2.2\n",
    "r_out = sqrt(0.05)#0.2\n",
    "r_ic = sqrt(0.01)#0.2"
   ]
  },
  {
   "cell_type": "markdown",
   "metadata": {},
   "source": [
    "## Beamsplitter\n",
    "Input state $\n",
    "\\left| n \\right>_1 \\otimes \\left| m \\right>_2  = \\left( \\hat{a}^{\\dagger}_1 \\otimes \\mathbb{I}_2 \\right)^n\n",
    "\\left(\\mathbb{I}_1 \\otimes \\hat{a}^{\\dagger}_2 \\right)^m \\left| 0 \\right>_1 \\otimes \\left| 0 \\right>_2\n",
    "$\n",
    "\n",
    "Output state $ \\left| p \\right>_3 \\otimes \\left| q \\right>_4 = \\left( \\hat{a}^{\\dagger}_3 \\otimes \\mathbb{I}_4 \\right)^p\n",
    "\\left(\\mathbb{I}_3 \\otimes \\hat{a}^{\\dagger}_4 \\right)^q \\left| 0 \\right>_3 \\otimes \\left| 0 \\right>_4$\n",
    "\n",
    "Unitary model of beam-splitter\n",
    "\n",
    "$ U_{bs} = \\exp \\left\\{ (\\arcsin r) \\hat a^\\dagger \\hat b - \\text{H.c.}  \\right\\} $\n",
    "\n",
    "### Algorithm 1\n",
    "\n",
    "Form density matrix\n",
    "\n",
    "$\\rho_i = \\left( \\left| n \\right>_1 \\otimes \\left| m \\right>_2 \\right)^{\\dagger} \\otimes \\left( \\left| n \\right>_1 \\otimes \\left| m \\right>_2 \\right) $\n",
    "\n",
    "Act with beam-splitter unitary\n",
    "\n",
    "$\\rho_f = U_{bs} \\rho_i U_{bs}^{\\dagger}$\n",
    "\n",
    "Return tuple of partial traces\n",
    "\n",
    "$ \\left( \\text{Tr}_1 \\left[ \\rho_f \\right], \\text{Tr}_2 \\left[\\rho_f \\right] \\right)$\n",
    "\n",
    "### Algorithm 2\n",
    "\n",
    "Act with beam-splitter unitary on product state\n",
    "\n",
    "$\\psi_{out} = U_{bs} \\left| n \\right>_1 \\otimes \\left| m \\right>_2 $\n",
    "\n",
    "Partial collapse (may be conditional on result $y$) due to measurement on second subsystem\n",
    "\n",
    "$ \\psi_{coll} =\\hat{P} (y) \\psi_{out} $"
   ]
  },
  {
   "cell_type": "code",
   "execution_count": null,
   "metadata": {},
   "outputs": [],
   "source": [
    "# Defining beamsplitter unitary operator (on composite state)\n",
    "basis_a = FockBasis(30); basis_b = FockBasis(30)\n",
    "id_a = identityoperator(basis_a)\n",
    "id_b = identityoperator(basis_b)\n",
    "a = destroy(basis_a) ⊗ id_b\n",
    "b = id_a ⊗ destroy(basis_b)\n",
    "\n",
    "U_out = exp( dense(asin(r_out)* (dagger(a)*b - a*dagger(b))) )\n",
    "U_in = exp( dense(asin(r_ic)* (dagger(a)*b - a*dagger(b))) );"
   ]
  },
  {
   "cell_type": "markdown",
   "metadata": {},
   "source": [
    "## Crystal propagation\n",
    "$$ \n",
    "\\hat{H}_{cry} = \\frac{i\\cdot \\varepsilon}{2} \\hat{b} \\hat{a}^{\\dagger 2} + \\text{H.c.}\n",
    "$$\n",
    "Time evolution operator\n",
    "$$ U_{cry} (\\tau) = e^{-\\frac{i}{\\hbar} \\hat{H} \\tau} "
   ]
  },
  {
   "cell_type": "code",
   "execution_count": null,
   "metadata": {},
   "outputs": [],
   "source": [
    "H_cr = 1im * ϵτ * (b + id_a ⊗ (β/sqrt(2)*id_b)) * dagger(a^2)\n",
    "H_cr = 0.5*(H_cr + dagger(H_cr));"
   ]
  },
  {
   "cell_type": "markdown",
   "metadata": {},
   "source": [
    "### Random collapse"
   ]
  },
  {
   "cell_type": "code",
   "execution_count": 5,
   "metadata": {},
   "outputs": [
    {
     "data": {
      "text/plain": [
       "random_collapse (generic function with 2 methods)"
      ]
     },
     "metadata": {},
     "output_type": "display_data"
    }
   ],
   "source": [
    "function random_collapse(ψ::Ket, ψcache::Ket, projectors, rng::AbstractRNG=Random.GLOBAL_RNG)\n",
    "    Fnb = cumsum(real(expect(n,ψ)) for n in projectors)\n",
    "    Fnb[end] = 1.0\n",
    "    nb_samp = searchsortedlast(Fnb, rand(rng))\n",
    "    ψcache .= ψ\n",
    "    mul!(ψ, projectors[nb_samp+1], ψcache) #(target, op., input)\n",
    "    for n in 1:nb_samp\n",
    "        ψcache .= ψ\n",
    "        mul!(ψ, b, ψcache)\n",
    "    end\n",
    "    normalize!(ψ)\n",
    "    return nb_samp\n",
    "end"
   ]
  },
  {
   "cell_type": "markdown",
   "metadata": {},
   "source": [
    "## Discrete algorithm\n",
    "### Roundtrip\n",
    "1. Crystal propagation\n",
    "2. Reset ancilla & Loss & Reset ancilla\n",
    "3. Homodyne measurement\n",
    "4. Reset ancilla & Loss & Reset ancilla\n",
    "5. Feedback injection"
   ]
  },
  {
   "cell_type": "code",
   "execution_count": 6,
   "metadata": {},
   "outputs": [
    {
     "data": {
      "text/plain": [
       "CIM_roundtrip! (generic function with 1 method)"
      ]
     },
     "metadata": {},
     "output_type": "display_data"
    }
   ],
   "source": [
    "function CIM_roundtrip!(ψ_1::Ket, ψ_2::Ket, H_cr::Operator, U_out::Operator, U_in::Operator, y, r_ic, basis_a::Basis, basis_b::Basis, hom::Homodyne, projectors)   \n",
    "    # crystal propagation (result in ψ_2)\n",
    "    _, (_,ψ_2) = timeevolution.schroedinger([0,1], ψ_1, H_cr)\n",
    "   \n",
    "    #ψ_2 = ψ_1\n",
    "    w = homodyne_b!(hom, ψ_2, Random.GLOBAL_RNG)\n",
    "    ψ_coppy = deepcopy(ψ_1)\n",
    "    # loss 1\n",
    "    #TODO: implement cavity loss\n",
    "\n",
    "    # Homodyne measurement (result in ψ_1)\n",
    "    ψ_2 = U_out * ψ_2\n",
    "    w = homodyne_b!(hom, ψ_2, Random.GLOBAL_RNG)\n",
    "    # loss 2\n",
    "    #TODO: implement cavity loss\n",
    "\n",
    "    # Feedback injection\n",
    "    \n",
    "    id_1 = identityoperator(basis_a)\n",
    "    D_α = displace(basis_b, y(w)/r_ic)\n",
    "    U_ic = id_1 ⊗ D_α\n",
    "    mul!(ψ_1, U_in* U_ic, ψ_2)\n",
    "    ψ_1 = U_ic * ψ_1 #mulitply by U_in from te left\n",
    "    \n",
    "    clicks = homodyne_b!(hom, ψ_1, Random.GLOBAL_RNG)\n",
    "    return (w, ψ_coppy)\n",
    "end"
   ]
  },
  {
   "cell_type": "code",
   "execution_count": null,
   "metadata": {},
   "outputs": [],
   "source": [
    "function single_OPO!(ψ_1::Ket, ψ_2::Ket, H_cr::Operator, U_out::Operator, U_in::Operator, y, r_ic, basis_a::Basis, basis_b::Basis, hom::Homodyne, projectors)   \n",
    "    # crystal propagation (result in ψ_2)\n",
    "    # _, (_,ψ_2) = timeevolution.schroedinger([0,1], ψ_1, H_cr)\n",
    "\n",
    "    # Feedback injection\n",
    "    id_1 = identityoperator(basis_a)\n",
    "    D_α = displace(basis_b, y/r_ic)\n",
    "    U_ic = id_1 ⊗ D_α\n",
    "    mul!(ψ_2, U_in* U_ic, ψ_1)\n",
    "\n",
    "    mul!(ψ_1, projectors[1], ψ_2)\n",
    "    normalize!(ψ_1)\n",
    "\n",
    "    mul!(ψ_2, U_out, ψ_1)\n",
    "    \n",
    "\n",
    "    #ψ_1 .= ψ_2\n",
    "\n",
    "    mul!(ψ_1, projectors[1], ψ_2)\n",
    "    normalize!(ψ_1)\n",
    "    ψ_coppy = deepcopy(ψ_1)\n",
    "    #w = homodyne_b!(hom, ψ_1, Random.GLOBAL_RNG)\n",
    "    w = 0\n",
    "    return (w,  ψ_coppy)\n",
    "end"
   ]
  },
  {
   "cell_type": "code",
   "execution_count": 26,
   "metadata": {},
   "outputs": [],
   "source": [
    "hom = Homodyne(basis_a, basis_b)\n",
    "projectors = [identityoperator(basis_a) ⊗ projector(fockstate(basis_b,i)) for i in 0:basis_b.N];\n",
    "ψ_init = fockstate(basis_a,0) ⊗ fockstate(basis_b,0)\n",
    "ancilla = deepcopy(ψ_init)\n",
    "nbr_roundtrips = 100\n",
    "w = zeros(nbr_roundtrips)\n",
    "ψ_coppies = Vector{typeof(ψ_init)}(undef, nbr_roundtrips)\n",
    "for i in 1:nbr_roundtrips\n",
    "    w[i], ψ_coppies[i] = single_OPO!(ψ_init, ancilla, H_cr, U_out, U_in, -0.05, r_ic, basis_a, basis_b, hom, projectors)\n",
    "end\n"
   ]
  },
  {
   "cell_type": "code",
   "execution_count": 67,
   "metadata": {},
   "outputs": [
    {
     "ename": "UndefVarError",
     "evalue": "UndefVarError: CIM_roundtrip! not defined",
     "output_type": "error",
     "traceback": [
      "UndefVarError: CIM_roundtrip! not defined\n",
      "\n",
      "Stacktrace:\n",
      " [1] top-level scope\n",
      "   @ c:\\Áron's\\anyagok\\NTT\\prog\\discrete\\product\\single_mode_discret_ising.ipynb:11"
     ]
    }
   ],
   "source": [
    "# x = Ket(basis_a, [1, 1, 1])\n",
    "# y = Ket(basis_b, [1, 0, 0]) # vacum state\n",
    "hom = Homodyne(basis_a, basis_b)\n",
    "projectors = [identityoperator(basis_a) ⊗ projector(fockstate(basis_b,i)) for i in 0:basis_b.N];\n",
    "ψ_init = fockstate(basis_a,0) ⊗ fockstate(basis_b,0)\n",
    "ancilla = deepcopy(ψ_init)\n",
    "nbr_roundtrips = 25\n",
    "w = zeros(nbr_roundtrips)\n",
    "ψ_coppies = Vector{typeof(ψ_init)}(undef, nbr_roundtrips)\n",
    "for i in 1:nbr_roundtrips\n",
    "    w[i], ψ_coppies[i] = CIM_roundtrip!(ψ_init, ancilla, H_cr, U_out, U_in, w -> -5.0, r_ic, basis_a, basis_b, hom, projectors)\n",
    "end\n"
   ]
  },
  {
   "cell_type": "code",
   "execution_count": null,
   "metadata": {},
   "outputs": [],
   "source": [
    "x_rnge = range(-10, 10, 100)\n",
    "anim = @animate for i ∈ 1:nbr_roundtrips\n",
    "    heatmap(x_rnge, x_rnge, transpose(wigner(ptrace(ψ_coppies[i], 2), x_rnge, x_rnge)), title=\"Single OPO with const. feedback \"*string(i), clim=(-0.35, 0.35), c=cgrad([:red, :white,:blue]), xlabel=\"position\", ylabel=\"momentum\")\n",
    "    #vline!([0.1*sqrt(2)*i])\n",
    "    vline!([-2.79262])\n",
    "end\n",
    "gif(anim, \"test.gif\", fps = 9)"
   ]
  },
  {
   "cell_type": "markdown",
   "metadata": {},
   "source": [
    "# Testing"
   ]
  },
  {
   "cell_type": "code",
   "execution_count": null,
   "metadata": {},
   "outputs": [],
   "source": [
    "function beam_splitter(input_a, input_b, r)\n",
    "    #Ψ = input_a ⊗ input_b\n",
    "    #ρ = Ψ ⊗ dagger(Ψ)\n",
    "    ρ = (input_a ⊗ input_b) ⊗ dagger(input_a ⊗ input_b)\n",
    "\n",
    "    id_a = identityoperator(input_a.basis)\n",
    "    id_b = identityoperator(input_b.basis)\n",
    "    a = destroy(input_a.basis) ⊗ id_b\n",
    "    b = id_a ⊗ destroy(input_b.basis)\n",
    "\n",
    "    bs_unitary = exp( dense(asin(r)* (dagger(a)*b - a*dagger(b))) ) # This is constant, move out\n",
    "\n",
    "    result_state = bs_unitary * ρ * dagger(bs_unitary)\n",
    "\n",
    "    # This results in an operator...\n",
    "    result_a = ptrace(result_state, 1)\n",
    "    result_b = ptrace(result_state, 2)\n",
    "\n",
    "    return (result_a, result_b)\n",
    "end\n",
    "\n",
    "function beam_splitter_2(input_a, input_b, r) #take a state & op. do it inplace\n",
    "    # take in the product state\n",
    "    Ψ = input_a ⊗ input_b\n",
    "\n",
    "    id_a = identityoperator(input_a.basis)\n",
    "    id_b = identityoperator(input_b.basis)\n",
    "    a = destroy(input_a.basis) ⊗ id_b\n",
    "    b = id_a ⊗ destroy(input_b.basis)\n",
    "\n",
    "    bs_unitary = exp( dense(asin(r)* (dagger(a)*b - a*dagger(b))) ) # This is constant, move out\n",
    "\n",
    "    result_state = bs_unitary * Ψ\n",
    "\n",
    "    return result_state\n",
    "end\n",
    "\n",
    "# Seems to use more memory in addition to being slow (ˇ-ˇ)\n",
    "function lazy_beam_splitter(input_a, input_b, r)\n",
    "    common_basis = tensor(input_a.basis, input_b.basis)\n",
    "    #Ψ = input_a ⊗ input_b\n",
    "    #ρ = Ψ ⊗ dagger(Ψ)\n",
    "    ρ = (input_a ⊗ input_b) ⊗ dagger(input_a ⊗ input_b)\n",
    "\n",
    "    a = LazyTensor(common_basis, [1], (destroy(input_a.basis),))\n",
    "    b = LazyTensor(common_basis, [2], (destroy(input_b.basis),))\n",
    "\n",
    "    bs_unitary = exp(asin(r)*dense( LazySum(LazyProduct(dagger(a), b), -LazyProduct(a, dagger(b))) ))\n",
    "\n",
    "    result_state = dense( LazyProduct( bs_unitary, ρ, dagger(bs_unitary) ) )\n",
    "    #result_state = bs_unitary * ρ * dagger(bs_unitary)\n",
    "\n",
    "    # This results in an operator...\n",
    "    result_a = ptrace(result_state, 1)\n",
    "    result_b = ptrace(result_state, 2)\n",
    "\n",
    "    return (result_a, result_b)\n",
    "end"
   ]
  },
  {
   "cell_type": "code",
   "execution_count": 13,
   "metadata": {},
   "outputs": [
    {
     "name": "stdout",
     "output_type": "stream",
     "text": [
      "Ket(dim=9)\n",
      "  basis: [Fock(cutoff=2) ⊗ Fock(cutoff=2)]\n",
      "                 0.0 + 0.0im\n",
      "  0.7071067811865477 + 0.0im\n",
      "                 0.0 + 0.0im\n",
      " -0.7071067811865475 + 0.0im\n",
      "                 0.0 + 0.0im\n",
      "                 0.0 + 0.0im\n",
      "                 0.0 + 0.0im\n",
      "                 0.0 + 0.0im\n",
      "                 0.0 + 0.0im\n",
      "-0.23399198539460958\n",
      "Ket(dim=9)\n",
      "  basis: [Fock(cutoff=2) ⊗ Fock(cutoff=2)]\n",
      " 0.31416040381973315 + 0.0im\n",
      "  0.9493699177200752 + 0.0im\n",
      "                 0.0 + 0.0im\n",
      "                 0.0 + 0.0im\n",
      "                 0.0 + 0.0im\n",
      "                 0.0 + 0.0im\n",
      "                 0.0 + 0.0im\n",
      "                 0.0 + 0.0im\n",
      "                 0.0 + 0.0im\n"
     ]
    }
   ],
   "source": [
    "using BenchmarkTools\n",
    "\n",
    "N = 3\n",
    "my_basis = FockBasis(2)\n",
    "# x = Ket(my_basis, 2*rand(N)-ones(N))\n",
    "# y = Ket(my_basis, 2*rand(N)-ones(N))\n",
    "x = Ket(my_basis, [0, 1, 0])\n",
    "y = Ket(my_basis, [1, 0, 0]) # vacum state\n",
    "\n",
    "r= 1/sqrt(2)\n",
    "Ψ = x ⊗ y\n",
    "\n",
    "hom = Homodyne(x.basis, y.basis)\n",
    "\n",
    "\n",
    "result_state = bs_unitary * Ψ\n",
    "println(result_state)\n",
    "x_0 = homodyne_b!(hom, result_state, Random.GLOBAL_RNG)\n",
    "println(x_0)\n",
    "println(result_state)\n",
    "# @btime beam_splitter(x, y, 0.5)\n",
    "# println(\"---\")\n",
    "# @btime lazy_beam_splitter(x, y, 0.5)\n"
   ]
  }
 ],
 "metadata": {
  "kernelspec": {
   "display_name": "Julia 1.7.0",
   "language": "julia",
   "name": "julia-1.7"
  },
  "language_info": {
   "file_extension": ".jl",
   "mimetype": "application/julia",
   "name": "julia",
   "version": "1.7.0"
  },
  "orig_nbformat": 4,
  "vscode": {
   "interpreter": {
    "hash": "9365eaae173709d8c1de1a691c8b6464e1440be652c68b8723e14714d9d61118"
   }
  }
 },
 "nbformat": 4,
 "nbformat_minor": 2
}
